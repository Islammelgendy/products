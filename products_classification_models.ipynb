{
  "nbformat": 4,
  "nbformat_minor": 0,
  "metadata": {
    "colab": {
      "name": "products-classification.ipynb",
      "provenance": []
    },
    "kernelspec": {
      "name": "python3",
      "display_name": "Python 3"
    },
    "language_info": {
      "name": "python"
    }
  },
  "cells": [
    {
      "cell_type": "code",
      "metadata": {
        "colab": {
          "base_uri": "https://localhost:8080/"
        },
        "id": "nTnpOnJRGwSk",
        "outputId": "e1e6cb28-ac2e-422a-e755-db179fbac9b0"
      },
      "source": [
        "!python --version"
      ],
      "execution_count": null,
      "outputs": [
        {
          "output_type": "stream",
          "name": "stdout",
          "text": [
            "Python 3.7.12\n"
          ]
        }
      ]
    },
    {
      "cell_type": "code",
      "metadata": {
        "colab": {
          "base_uri": "https://localhost:8080/"
        },
        "id": "YGhKUkQ_0ztZ",
        "outputId": "80f582de-dd59-4924-9483-b137fe120a4d"
      },
      "source": [
        "!pip install imbalanced-learn\n"
      ],
      "execution_count": null,
      "outputs": [
        {
          "output_type": "stream",
          "name": "stdout",
          "text": [
            "Requirement already satisfied: imbalanced-learn in /usr/local/lib/python3.7/dist-packages (0.4.3)\n",
            "Requirement already satisfied: numpy>=1.8.2 in /usr/local/lib/python3.7/dist-packages (from imbalanced-learn) (1.19.5)\n",
            "Requirement already satisfied: scikit-learn>=0.20 in /usr/local/lib/python3.7/dist-packages (from imbalanced-learn) (0.22.2.post1)\n",
            "Requirement already satisfied: scipy>=0.13.3 in /usr/local/lib/python3.7/dist-packages (from imbalanced-learn) (1.4.1)\n",
            "Requirement already satisfied: joblib>=0.11 in /usr/local/lib/python3.7/dist-packages (from scikit-learn>=0.20->imbalanced-learn) (1.0.1)\n"
          ]
        }
      ]
    },
    {
      "cell_type": "code",
      "metadata": {
        "colab": {
          "base_uri": "https://localhost:8080/"
        },
        "id": "g4UU-2DK1kKF",
        "outputId": "c02cafec-81fb-4460-89f0-9e4d579d12b5"
      },
      "source": [
        "\n",
        "# check version number\n",
        "import imblearn\n",
        "print(imblearn.__version__)"
      ],
      "execution_count": null,
      "outputs": [
        {
          "output_type": "stream",
          "name": "stdout",
          "text": [
            "0.4.3\n"
          ]
        },
        {
          "output_type": "stream",
          "name": "stderr",
          "text": [
            "/usr/local/lib/python3.7/dist-packages/sklearn/externals/six.py:31: FutureWarning: The module is deprecated in version 0.21 and will be removed in version 0.23 since we've dropped support for Python 2.7. Please rely on the official version of six (https://pypi.org/project/six/).\n",
            "  \"(https://pypi.org/project/six/).\", FutureWarning)\n",
            "/usr/local/lib/python3.7/dist-packages/sklearn/utils/deprecation.py:144: FutureWarning: The sklearn.neighbors.base module is  deprecated in version 0.22 and will be removed in version 0.24. The corresponding classes / functions should instead be imported from sklearn.neighbors. Anything that cannot be imported from sklearn.neighbors is now part of the private API.\n",
            "  warnings.warn(message, FutureWarning)\n"
          ]
        }
      ]
    },
    {
      "cell_type": "code",
      "metadata": {
        "colab": {
          "base_uri": "https://localhost:8080/"
        },
        "id": "K75lgTVDSQMt",
        "outputId": "93034ee7-2410-4923-82e7-c2aea024915c"
      },
      "source": [
        "from google.colab import drive\n",
        "drive.mount(\"/content/gdrive\")"
      ],
      "execution_count": null,
      "outputs": [
        {
          "output_type": "stream",
          "name": "stdout",
          "text": [
            "Mounted at /content/gdrive\n"
          ]
        }
      ]
    },
    {
      "cell_type": "code",
      "metadata": {
        "id": "wtvoBzvfSx4-"
      },
      "source": [
        "#utilites\n",
        "import re\n",
        "import numpy as np \n",
        "import pandas as pd \n",
        "\n",
        "#plotting \n",
        "import seaborn as sns \n",
        "import matplotlib.pyplot as plt\n",
        "\n",
        "#nltk\n",
        "import nltk\n",
        "from nltk.corpus import stopwords\n",
        "from nltk.tokenize import word_tokenize\n",
        "from nltk.stem import WordNetLemmatizer \n",
        "\n",
        "#sklearn\n",
        "from sklearn.feature_extraction.text import TfidfVectorizer\n",
        "from sklearn.model_selection import train_test_split\n",
        "from sklearn.linear_model import LogisticRegression\n",
        "from sklearn import  svm\n",
        "from sklearn.metrics import confusion_matrix, classification_report,f1_score\n",
        "from sklearn.preprocessing import LabelEncoder\n",
        "from sklearn.model_selection import cross_val_score\n",
        "from sklearn.model_selection import RepeatedStratifiedKFold\n",
        "from sklearn.ensemble import RandomForestClassifier\n",
        "\n",
        "#imblanced learn \n",
        "import imblearn\n",
        "from imblearn.over_sampling import SMOTE\n",
        "\n",
        "#warning \n",
        "import warnings\n",
        "warnings.filterwarnings(\"ignore\")"
      ],
      "execution_count": 139,
      "outputs": []
    },
    {
      "cell_type": "code",
      "metadata": {
        "colab": {
          "base_uri": "https://localhost:8080/"
        },
        "id": "m5CVoDDBR7h4",
        "outputId": "993cd83b-a7c2-44f4-ef56-1242d3d5f4bf"
      },
      "source": [
        "nltk.download('punkt');\n",
        "nltk.download('wordnet');\n",
        "nltk.download('stopwords');"
      ],
      "execution_count": null,
      "outputs": [
        {
          "output_type": "stream",
          "name": "stdout",
          "text": [
            "[nltk_data] Downloading package punkt to /root/nltk_data...\n",
            "[nltk_data]   Package punkt is already up-to-date!\n",
            "[nltk_data] Downloading package wordnet to /root/nltk_data...\n",
            "[nltk_data]   Package wordnet is already up-to-date!\n",
            "[nltk_data] Downloading package stopwords to /root/nltk_data...\n",
            "[nltk_data]   Package stopwords is already up-to-date!\n"
          ]
        }
      ]
    },
    {
      "cell_type": "code",
      "metadata": {
        "colab": {
          "base_uri": "https://localhost:8080/",
          "height": 203
        },
        "id": "i_NVUBEiS3wa",
        "outputId": "eebb2a64-b89f-4413-8064-295acb7799c8"
      },
      "source": [
        "df = pd.read_csv(\"products.csv\" ,encoding=\"utf-8\", skipinitialspace=True)\n",
        "df.head()"
      ],
      "execution_count": null,
      "outputs": [
        {
          "output_type": "execute_result",
          "data": {
            "text/html": [
              "<div>\n",
              "<style scoped>\n",
              "    .dataframe tbody tr th:only-of-type {\n",
              "        vertical-align: middle;\n",
              "    }\n",
              "\n",
              "    .dataframe tbody tr th {\n",
              "        vertical-align: top;\n",
              "    }\n",
              "\n",
              "    .dataframe thead th {\n",
              "        text-align: right;\n",
              "    }\n",
              "</style>\n",
              "<table border=\"1\" class=\"dataframe\">\n",
              "  <thead>\n",
              "    <tr style=\"text-align: right;\">\n",
              "      <th></th>\n",
              "      <th>title</th>\n",
              "      <th>url</th>\n",
              "      <th>category</th>\n",
              "    </tr>\n",
              "  </thead>\n",
              "  <tbody>\n",
              "    <tr>\n",
              "      <th>0</th>\n",
              "      <td>\\r\\n                                Sony PlayS...</td>\n",
              "      <td>https://2b.com.eg/en/ps5-standard-edition-cfi-...</td>\n",
              "      <td>Gaming</td>\n",
              "    </tr>\n",
              "    <tr>\n",
              "      <th>1</th>\n",
              "      <td>\\r\\n                                Sony Media...</td>\n",
              "      <td>https://2b.com.eg/en/media-remote-cfi-zmr1bx-i...</td>\n",
              "      <td>Gaming</td>\n",
              "    </tr>\n",
              "    <tr>\n",
              "      <th>2</th>\n",
              "      <td>\\r\\n                                PlayStatio...</td>\n",
              "      <td>https://2b.com.eg/en/playstation-5-dual-sense-...</td>\n",
              "      <td>Gaming</td>\n",
              "    </tr>\n",
              "    <tr>\n",
              "      <th>3</th>\n",
              "      <td>\\r\\n                                Sony Origi...</td>\n",
              "      <td>https://2b.com.eg/en/sony-original-game-pad-du...</td>\n",
              "      <td>Gaming</td>\n",
              "    </tr>\n",
              "    <tr>\n",
              "      <th>4</th>\n",
              "      <td>\\r\\n                                Sony Dual ...</td>\n",
              "      <td>https://2b.com.eg/en/dual-sense-charging-stati...</td>\n",
              "      <td>Gaming</td>\n",
              "    </tr>\n",
              "  </tbody>\n",
              "</table>\n",
              "</div>"
            ],
            "text/plain": [
              "                                               title  ... category\n",
              "0  \\r\\n                                Sony PlayS...  ...   Gaming\n",
              "1  \\r\\n                                Sony Media...  ...   Gaming\n",
              "2  \\r\\n                                PlayStatio...  ...   Gaming\n",
              "3  \\r\\n                                Sony Origi...  ...   Gaming\n",
              "4  \\r\\n                                Sony Dual ...  ...   Gaming\n",
              "\n",
              "[5 rows x 3 columns]"
            ]
          },
          "metadata": {},
          "execution_count": 71
        }
      ]
    },
    {
      "cell_type": "code",
      "metadata": {
        "colab": {
          "base_uri": "https://localhost:8080/"
        },
        "id": "mPyy_sjUyQ87",
        "outputId": "cd1a7793-5f89-4981-efe1-8ac98740126a"
      },
      "source": [
        "#columns/features \n",
        "df.columns"
      ],
      "execution_count": null,
      "outputs": [
        {
          "output_type": "execute_result",
          "data": {
            "text/plain": [
              "Index(['title', 'url', 'category'], dtype='object')"
            ]
          },
          "metadata": {},
          "execution_count": 72
        }
      ]
    },
    {
      "cell_type": "code",
      "metadata": {
        "colab": {
          "base_uri": "https://localhost:8080/"
        },
        "id": "oECrQli_yaBG",
        "outputId": "830104e6-328a-4dcc-f2c1-e74ee7dd6976"
      },
      "source": [
        "print('length of data is', len(df))"
      ],
      "execution_count": null,
      "outputs": [
        {
          "output_type": "stream",
          "name": "stdout",
          "text": [
            "length of data is 3790\n"
          ]
        }
      ]
    },
    {
      "cell_type": "code",
      "metadata": {
        "colab": {
          "base_uri": "https://localhost:8080/"
        },
        "id": "9HFkNagNyfx7",
        "outputId": "2e1db797-9565-466d-d774-6c819a2fca84"
      },
      "source": [
        "# data information \n",
        "df.info()"
      ],
      "execution_count": null,
      "outputs": [
        {
          "output_type": "stream",
          "name": "stdout",
          "text": [
            "<class 'pandas.core.frame.DataFrame'>\n",
            "RangeIndex: 3790 entries, 0 to 3789\n",
            "Data columns (total 3 columns):\n",
            " #   Column    Non-Null Count  Dtype \n",
            "---  ------    --------------  ----- \n",
            " 0   title     3790 non-null   object\n",
            " 1   url       3790 non-null   object\n",
            " 2   category  3790 non-null   object\n",
            "dtypes: object(3)\n",
            "memory usage: 89.0+ KB\n"
          ]
        }
      ]
    },
    {
      "cell_type": "code",
      "metadata": {
        "colab": {
          "base_uri": "https://localhost:8080/"
        },
        "id": "kaEFiyv7ysIT",
        "outputId": "fd03e123-0513-410b-f0fe-6da39c78300c"
      },
      "source": [
        "df.isna().sum()"
      ],
      "execution_count": null,
      "outputs": [
        {
          "output_type": "execute_result",
          "data": {
            "text/plain": [
              "title       0\n",
              "url         0\n",
              "category    0\n",
              "dtype: int64"
            ]
          },
          "metadata": {},
          "execution_count": 75
        }
      ]
    },
    {
      "cell_type": "markdown",
      "metadata": {
        "id": "uCjMYqt_NR06"
      },
      "source": [
        "**list all the unique values of the category to make sure that all categories exists**"
      ]
    },
    {
      "cell_type": "code",
      "metadata": {
        "colab": {
          "base_uri": "https://localhost:8080/"
        },
        "id": "Vk-AjBOFZ0sq",
        "outputId": "b046140b-7345-4f6b-b99e-b9bdc04c2345"
      },
      "source": [
        "df['category'].unique()"
      ],
      "execution_count": null,
      "outputs": [
        {
          "output_type": "execute_result",
          "data": {
            "text/plain": [
              "array(['Gaming', 'Home Appliances', 'Accessories', 'Computers',\n",
              "       'Mobile & Tablet'], dtype=object)"
            ]
          },
          "metadata": {},
          "execution_count": 76
        }
      ]
    },
    {
      "cell_type": "markdown",
      "metadata": {
        "id": "-C58KqQszCl8"
      },
      "source": [
        "**Data visualization of the tagert column**"
      ]
    },
    {
      "cell_type": "code",
      "metadata": {
        "colab": {
          "base_uri": "https://localhost:8080/",
          "height": 336
        },
        "id": "5czsV_xzWP5w",
        "outputId": "13465664-8a9c-4791-f94f-1898c2f9466c"
      },
      "source": [
        "plt.figure(figsize=(10,5))\n",
        "sns.barplot(x=df.category.value_counts().index, y=df.category.value_counts())\n",
        "plt.title(\"category unique values frequency\")\n",
        "plt.show();"
      ],
      "execution_count": null,
      "outputs": [
        {
          "output_type": "display_data",
          "data": {
            "image/png": "[encoded data removed]",
            "text/plain": [
              "<Figure size 720x360 with 1 Axes>"
            ]
          },
          "metadata": {
            "needs_background": "light"
          }
        }
      ]
    },
    {
      "cell_type": "markdown",
      "metadata": {
        "id": "TizxPx9KMUP0"
      },
      "source": [
        "\n",
        "**Remove the Leading text from the dataset**\n",
        "\n",
        "\n",
        "\n",
        "\n"
      ]
    },
    {
      "cell_type": "code",
      "metadata": {
        "id": "Q6SUmcCLVFBA",
        "colab": {
          "base_uri": "https://localhost:8080/",
          "height": 287
        },
        "outputId": "fc821d81-6f86-4eb8-e2bc-4a418a486a5b"
      },
      "source": [
        " \n",
        "def removing_leading_whitespaces(text):\n",
        "     return re.sub(r\"^\\s+\",\"\",text)\n",
        "\n",
        "df['title'] = df['title'].apply(removing_leading_whitespaces)\n",
        "df['title'] = df['title'].str.strip()\n",
        "\n",
        "df.head(5)\n"
      ],
      "execution_count": null,
      "outputs": [
        {
          "output_type": "execute_result",
          "data": {
            "text/html": [
              "<div>\n",
              "<style scoped>\n",
              "    .dataframe tbody tr th:only-of-type {\n",
              "        vertical-align: middle;\n",
              "    }\n",
              "\n",
              "    .dataframe tbody tr th {\n",
              "        vertical-align: top;\n",
              "    }\n",
              "\n",
              "    .dataframe thead th {\n",
              "        text-align: right;\n",
              "    }\n",
              "</style>\n",
              "<table border=\"1\" class=\"dataframe\">\n",
              "  <thead>\n",
              "    <tr style=\"text-align: right;\">\n",
              "      <th></th>\n",
              "      <th>title</th>\n",
              "      <th>url</th>\n",
              "      <th>category</th>\n",
              "    </tr>\n",
              "  </thead>\n",
              "  <tbody>\n",
              "    <tr>\n",
              "      <th>0</th>\n",
              "      <td>Sony PlayStation 5 Standard 1 TB  (Official wa...</td>\n",
              "      <td>https://2b.com.eg/en/ps5-standard-edition-cfi-...</td>\n",
              "      <td>Gaming</td>\n",
              "    </tr>\n",
              "    <tr>\n",
              "      <th>1</th>\n",
              "      <td>Sony Media Remote CFI-ZMR1BX - IBS Warranty</td>\n",
              "      <td>https://2b.com.eg/en/media-remote-cfi-zmr1bx-i...</td>\n",
              "      <td>Gaming</td>\n",
              "    </tr>\n",
              "    <tr>\n",
              "      <th>2</th>\n",
              "      <td>PlayStation 5 Dual Sense - Red - (IBS Warranty)</td>\n",
              "      <td>https://2b.com.eg/en/playstation-5-dual-sense-...</td>\n",
              "      <td>Gaming</td>\n",
              "    </tr>\n",
              "    <tr>\n",
              "      <th>3</th>\n",
              "      <td>Sony Original Game Pad Dual Sense PlayStation ...</td>\n",
              "      <td>https://2b.com.eg/en/sony-original-game-pad-du...</td>\n",
              "      <td>Gaming</td>\n",
              "    </tr>\n",
              "    <tr>\n",
              "      <th>4</th>\n",
              "      <td>Sony Dual Sense Charging Station CFI-ZDS1E - I...</td>\n",
              "      <td>https://2b.com.eg/en/dual-sense-charging-stati...</td>\n",
              "      <td>Gaming</td>\n",
              "    </tr>\n",
              "  </tbody>\n",
              "</table>\n",
              "</div>"
            ],
            "text/plain": [
              "                                               title  ... category\n",
              "0  Sony PlayStation 5 Standard 1 TB  (Official wa...  ...   Gaming\n",
              "1        Sony Media Remote CFI-ZMR1BX - IBS Warranty  ...   Gaming\n",
              "2    PlayStation 5 Dual Sense - Red - (IBS Warranty)  ...   Gaming\n",
              "3  Sony Original Game Pad Dual Sense PlayStation ...  ...   Gaming\n",
              "4  Sony Dual Sense Charging Station CFI-ZDS1E - I...  ...   Gaming\n",
              "\n",
              "[5 rows x 3 columns]"
            ]
          },
          "metadata": {},
          "execution_count": 78
        }
      ]
    },
    {
      "cell_type": "markdown",
      "metadata": {
        "id": "QBR4GOecPLb8"
      },
      "source": [
        "**will try to handle unblanced data using two methods**\n",
        "\n",
        "\n",
        "1.   Taking equel random subset from each category \n",
        "2.   Oversampling and Undersampling\n",
        "\n"
      ]
    },
    {
      "cell_type": "markdown",
      "metadata": {
        "id": "hWoFen9AQQ9t"
      },
      "source": [
        "1- **take equel random sampls from each category**"
      ]
    },
    {
      "cell_type": "code",
      "metadata": {
        "id": "VoV4QIzEZiSW"
      },
      "source": [
        "computers = df[df['category']=='Computers'].sample(n =309)\n",
        "mobile = df[df['category']=='Mobile & Tablet'].sample(n =309)\n",
        "gaming =df[df['category']=='Gaming'].sample(n =309)\n",
        "home = df[df['category']=='Home Appliances'].sample(n =309)\n",
        "accessories =df[df['category']=='Accessories'].sample(n =309)"
      ],
      "execution_count": null,
      "outputs": []
    },
    {
      "cell_type": "code",
      "metadata": {
        "id": "DQkeqUFSaDMK"
      },
      "source": [
        "balanced_df = pd.DataFrame()\n",
        "balanced_df  =balanced_df.append([computers,mobile,gaming,home,accessories])\n",
        "balanced_df =balanced_df[['title','category']]"
      ],
      "execution_count": null,
      "outputs": []
    },
    {
      "cell_type": "code",
      "metadata": {
        "colab": {
          "base_uri": "https://localhost:8080/",
          "height": 379
        },
        "id": "2fiOQoWmb_yT",
        "outputId": "7a39cebe-7cfb-4d5b-d407-74044eb107af"
      },
      "source": [
        "print(\"the value counts of balanced datasets \\n\",balanced_df['category'].value_counts(),end=\"\\n\")\n",
        "print(\"=\"*40)\n",
        "print(\"the leanght of the dataset is \",len(balanced_df))\n",
        "print(\"=\"*40)\n",
        "balanced_df.head()"
      ],
      "execution_count": null,
      "outputs": [
        {
          "output_type": "stream",
          "name": "stdout",
          "text": [
            "the value counts of balanced datasets \n",
            " Accessories        309\n",
            "Gaming             309\n",
            "Computers          309\n",
            "Home Appliances    309\n",
            "Mobile & Tablet    309\n",
            "Name: category, dtype: int64\n",
            "========================================\n",
            "the leanght of the dataset is  1545\n",
            "========================================\n"
          ]
        },
        {
          "output_type": "execute_result",
          "data": {
            "text/html": [
              "<div>\n",
              "<style scoped>\n",
              "    .dataframe tbody tr th:only-of-type {\n",
              "        vertical-align: middle;\n",
              "    }\n",
              "\n",
              "    .dataframe tbody tr th {\n",
              "        vertical-align: top;\n",
              "    }\n",
              "\n",
              "    .dataframe thead th {\n",
              "        text-align: right;\n",
              "    }\n",
              "</style>\n",
              "<table border=\"1\" class=\"dataframe\">\n",
              "  <thead>\n",
              "    <tr style=\"text-align: right;\">\n",
              "      <th></th>\n",
              "      <th>title</th>\n",
              "      <th>category</th>\n",
              "    </tr>\n",
              "  </thead>\n",
              "  <tbody>\n",
              "    <tr>\n",
              "      <th>1390</th>\n",
              "      <td>Lenovo IdeaPad S145 ( Intel® Core™I3-1005G1 - ...</td>\n",
              "      <td>Computers</td>\n",
              "    </tr>\n",
              "    <tr>\n",
              "      <th>876</th>\n",
              "      <td>Apple MacBook Air (Apple M1 chip with 8-core C...</td>\n",
              "      <td>Computers</td>\n",
              "    </tr>\n",
              "    <tr>\n",
              "      <th>150</th>\n",
              "      <td>TP-Link Wi-Fi Range Extender 300Mbps (TL-WA855RE)</td>\n",
              "      <td>Computers</td>\n",
              "    </tr>\n",
              "    <tr>\n",
              "      <th>598</th>\n",
              "      <td>Hikvision M200S (STD) 64 GB USB Flash Drive</td>\n",
              "      <td>Computers</td>\n",
              "    </tr>\n",
              "    <tr>\n",
              "      <th>583</th>\n",
              "      <td>Canon WS-1210T EMEA HB 0694B001AC</td>\n",
              "      <td>Computers</td>\n",
              "    </tr>\n",
              "  </tbody>\n",
              "</table>\n",
              "</div>"
            ],
            "text/plain": [
              "                                                  title   category\n",
              "1390  Lenovo IdeaPad S145 ( Intel® Core™I3-1005G1 - ...  Computers\n",
              "876   Apple MacBook Air (Apple M1 chip with 8-core C...  Computers\n",
              "150   TP-Link Wi-Fi Range Extender 300Mbps (TL-WA855RE)  Computers\n",
              "598         Hikvision M200S (STD) 64 GB USB Flash Drive  Computers\n",
              "583                   Canon WS-1210T EMEA HB 0694B001AC  Computers"
            ]
          },
          "metadata": {},
          "execution_count": 95
        }
      ]
    },
    {
      "cell_type": "code",
      "metadata": {
        "colab": {
          "base_uri": "https://localhost:8080/"
        },
        "id": "oxD0OEzZiG3p",
        "outputId": "9ee35d3f-34e7-4e73-8cde-476fbf44a845"
      },
      "source": [
        "lemma = WordNetLemmatizer()\n",
        "stop_words=set(stopwords.words('english'))\n",
        "\n",
        "def Clean_text(txt):\n",
        "\n",
        "  cleaned_txt = re.sub(r'http\\S+','',txt)\n",
        "  cleaned_txt =re.sub('[^a-zA-Z]',' ',txt)\n",
        "  cleaned_txt= str(cleaned_txt).lower()\n",
        "\n",
        "  token_txt = word_tokenize(cleaned_txt)\n",
        "  no_stop_txt = [item for item in token_txt if item not in stop_words] \n",
        "  lem= [lemma.lemmatize(word=w,pos='v') for w in no_stop_txt]\n",
        "  lem = [i for i in lem if len(i) > 2]\n",
        "\n",
        "  return ' '.join(lem)\n",
        "balanced_df ['title']= balanced_df ['title'].apply(Clean_text)\n",
        "balanced_df ['title'].head()"
      ],
      "execution_count": null,
      "outputs": [
        {
          "output_type": "execute_result",
          "data": {
            "text/plain": [
              "1390    lenovo ideapad intel core intel graphics win grey\n",
              "876     apple macbook air apple chip core cpu core gpu...\n",
              "150                              link range extender mbps\n",
              "598                         hikvision std usb flash drive\n",
              "583                                            canon emea\n",
              "Name: title, dtype: object"
            ]
          },
          "metadata": {},
          "execution_count": 96
        }
      ]
    },
    {
      "cell_type": "code",
      "metadata": {
        "colab": {
          "base_uri": "https://localhost:8080/"
        },
        "id": "eYBw6DSp2zDE",
        "outputId": "0c7a8eef-1249-44d9-f7f9-6acfb8742d49"
      },
      "source": [
        "from sklearn import preprocessing\n",
        "le = preprocessing.LabelEncoder()\n",
        "le.fit(balanced_df['category'])\n",
        "le_name_mapping = dict(zip(le.transform(le.classes_),le.classes_))\n",
        "print(le_name_mapping)"
      ],
      "execution_count": null,
      "outputs": [
        {
          "output_type": "stream",
          "name": "stdout",
          "text": [
            "{0: 'Accessories', 1: 'Computers', 2: 'Gaming', 3: 'Home Appliances', 4: 'Mobile & Tablet'}\n"
          ]
        }
      ]
    },
    {
      "cell_type": "code",
      "metadata": {
        "id": "V1qcYc5Uqm87"
      },
      "source": [
        "balanced_df['category'] =le.fit_transform(balanced_df['category'])"
      ],
      "execution_count": null,
      "outputs": []
    },
    {
      "cell_type": "code",
      "metadata": {
        "id": "_4uihOlbpH1T"
      },
      "source": [
        "\n",
        "X_train, X_test, y_train, y_test = train_test_split(\n",
        " balanced_df['title'],balanced_df['category'], test_size=0.33, random_state=42)"
      ],
      "execution_count": null,
      "outputs": []
    },
    {
      "cell_type": "code",
      "metadata": {
        "colab": {
          "base_uri": "https://localhost:8080/"
        },
        "id": "1zvB8sT4Q_Ww",
        "outputId": "a5a26161-8565-48d3-f747-d5c314581ddc"
      },
      "source": [
        "balanced_df['category'].sample(5)"
      ],
      "execution_count": null,
      "outputs": [
        {
          "output_type": "execute_result",
          "data": {
            "text/plain": [
              "333     3\n",
              "1617    3\n",
              "1707    0\n",
              "1274    1\n",
              "110     0\n",
              "Name: category, dtype: int64"
            ]
          },
          "metadata": {},
          "execution_count": 101
        }
      ]
    },
    {
      "cell_type": "code",
      "metadata": {
        "colab": {
          "base_uri": "https://localhost:8080/"
        },
        "id": "U7sHYEbX5fHP",
        "outputId": "759c0382-226d-49e3-cae5-2ef9ffedd2eb"
      },
      "source": [
        "balanced_df['category'].unique()"
      ],
      "execution_count": null,
      "outputs": [
        {
          "output_type": "execute_result",
          "data": {
            "text/plain": [
              "array([1, 4, 2, 3, 0])"
            ]
          },
          "metadata": {},
          "execution_count": 88
        }
      ]
    },
    {
      "cell_type": "code",
      "metadata": {
        "id": "ZvC3Ce1IqV0l"
      },
      "source": [
        "\n",
        "# Create feature vectors\n",
        "vectorizer = TfidfVectorizer(min_df = 5,\n",
        "                             max_df = 0.8,\n",
        "                             sublinear_tf = True,\n",
        "                             use_idf = True)\n",
        "train_vectors = vectorizer.fit_transform( X_train)\n",
        "test_vectors = vectorizer.transform(X_test)"
      ],
      "execution_count": null,
      "outputs": []
    },
    {
      "cell_type": "markdown",
      "metadata": {
        "id": "JJYAeJ4Q_oDO"
      },
      "source": [
        "**modeling**\n",
        "\n",
        "\n",
        "*   Logistic Regression \n",
        "\n",
        "\n",
        "\n"
      ]
    },
    {
      "cell_type": "code",
      "metadata": {
        "colab": {
          "base_uri": "https://localhost:8080/"
        },
        "id": "laQ19A_QpVdq",
        "outputId": "79de75df-2631-42f6-8dc2-ec4f53b753e1"
      },
      "source": [
        "\n",
        "lr = LogisticRegression()\n",
        "lr.fit(train_vectors,y_train)"
      ],
      "execution_count": null,
      "outputs": [
        {
          "output_type": "execute_result",
          "data": {
            "text/plain": [
              "LogisticRegression(C=1.0, class_weight=None, dual=False, fit_intercept=True,\n",
              "                   intercept_scaling=1, l1_ratio=None, max_iter=100,\n",
              "                   multi_class='auto', n_jobs=None, penalty='l2',\n",
              "                   random_state=None, solver='lbfgs', tol=0.0001, verbose=0,\n",
              "                   warm_start=False)"
            ]
          },
          "metadata": {},
          "execution_count": 102
        }
      ]
    },
    {
      "cell_type": "code",
      "metadata": {
        "colab": {
          "base_uri": "https://localhost:8080/"
        },
        "id": "YWbFjNQDq0xn",
        "outputId": "9eaa634b-a820-4675-8f4b-d4af83a6eca8"
      },
      "source": [
        "lr.score(test_vectors,y_test)\n"
      ],
      "execution_count": null,
      "outputs": [
        {
          "output_type": "execute_result",
          "data": {
            "text/plain": [
              "0.9176470588235294"
            ]
          },
          "metadata": {},
          "execution_count": 103
        }
      ]
    },
    {
      "cell_type": "markdown",
      "metadata": {
        "id": "R9fcl_Ia_f1I"
      },
      "source": [
        "**supoort vector machine**"
      ]
    },
    {
      "cell_type": "code",
      "metadata": {
        "colab": {
          "base_uri": "https://localhost:8080/"
        },
        "id": "grBf1MIts4zq",
        "outputId": "8057fe74-e353-4f41-efe0-fa66d44ea520"
      },
      "source": [
        "\n",
        "SVM = svm.SVC(C=1.0, kernel='linear', degree=3, gamma='auto')\n",
        "SVM.fit(train_vectors,y_train)"
      ],
      "execution_count": null,
      "outputs": [
        {
          "output_type": "execute_result",
          "data": {
            "text/plain": [
              "SVC(C=1.0, break_ties=False, cache_size=200, class_weight=None, coef0=0.0,\n",
              "    decision_function_shape='ovr', degree=3, gamma='auto', kernel='linear',\n",
              "    max_iter=-1, probability=False, random_state=None, shrinking=True,\n",
              "    tol=0.001, verbose=False)"
            ]
          },
          "metadata": {},
          "execution_count": 104
        }
      ]
    },
    {
      "cell_type": "code",
      "metadata": {
        "id": "h-Yh2zODtCZ7"
      },
      "source": [
        "pred_svm =SVM.predict(test_vectors)"
      ],
      "execution_count": null,
      "outputs": []
    },
    {
      "cell_type": "code",
      "metadata": {
        "colab": {
          "base_uri": "https://localhost:8080/"
        },
        "id": "1i2QeDSOtNAY",
        "outputId": "ddac401d-d7b4-46e9-b9c5-cbb0f2f8d80e"
      },
      "source": [
        "SVM.score(test_vectors,y_test)"
      ],
      "execution_count": null,
      "outputs": [
        {
          "output_type": "execute_result",
          "data": {
            "text/plain": [
              "0.9196078431372549"
            ]
          },
          "metadata": {},
          "execution_count": 63
        }
      ]
    },
    {
      "cell_type": "code",
      "metadata": {
        "colab": {
          "base_uri": "https://localhost:8080/"
        },
        "id": "rXUkrMGa2NMY",
        "outputId": "9e5cf164-7d89-4b1e-8da7-42ea3da662ac"
      },
      "source": [
        "new_text = \"Lenovo-IdeaPad+5+14ITL05+%28Intel%C2%AE+Core%E2%84%A2+i5+-+1135G7+-+8GB+-++512GBSSD+-+Intel+Iris+Xe+Graphics+-+14.0%22FHD+%29+Gray\"\n",
        "new_text = Clean_text(new_text)\n",
        "print(new_text)\n",
        "p = SVM.predict(vectorizer.transform([new_text]))[0]\n",
        "print('the category of this product is ' ,le_name_mapping[p])"
      ],
      "execution_count": null,
      "outputs": [
        {
          "output_type": "stream",
          "name": "stdout",
          "text": [
            "lenovo ideapad itl intel core gbssd intel iris graphics fhd gray\n",
            "the category of this product is  Computers\n"
          ]
        }
      ]
    },
    {
      "cell_type": "markdown",
      "metadata": {
        "id": "VFAccyVLAutO"
      },
      "source": [
        "**save the model**"
      ]
    },
    {
      "cell_type": "code",
      "metadata": {
        "id": "317bqtJb9j68"
      },
      "source": [
        "import pickle\n",
        "Pkl_Filename = \"SVM_CLS.pkl\"  \n",
        "\n",
        "with open(Pkl_Filename, 'wb') as file:  \n",
        "    pickle.dump(SVM, file)"
      ],
      "execution_count": null,
      "outputs": []
    },
    {
      "cell_type": "code",
      "metadata": {
        "id": "Xjrpcvh_PiAM"
      },
      "source": [
        "filename = 'SVM_CLS.pkl'\n",
        "loaded_model = pickle.load(open(filename, 'rb'))\n"
      ],
      "execution_count": null,
      "outputs": []
    },
    {
      "cell_type": "code",
      "metadata": {
        "colab": {
          "base_uri": "https://localhost:8080/"
        },
        "id": "aZCBrMmtRu5B",
        "outputId": "d000c98b-0f4d-4b88-e057-95d4cdeb6443"
      },
      "source": [
        "loaded_model.predict(vectorizer.transform([new_text]))"
      ],
      "execution_count": null,
      "outputs": [
        {
          "output_type": "execute_result",
          "data": {
            "text/plain": [
              "array([1])"
            ]
          },
          "metadata": {},
          "execution_count": 111
        }
      ]
    },
    {
      "cell_type": "code",
      "metadata": {
        "id": "xR5LkVW_QxvE"
      },
      "source": [
        "pickle.dump(vectorizer, open(\"vectorizer.pickle\", \"wb\"))"
      ],
      "execution_count": null,
      "outputs": []
    },
    {
      "cell_type": "markdown",
      "metadata": {
        "id": "KpMnQ6fwaEVR"
      },
      "source": [
        "**OverSampling** "
      ]
    },
    {
      "cell_type": "code",
      "metadata": {
        "colab": {
          "base_uri": "https://localhost:8080/"
        },
        "id": "taEtdvar9ZXU",
        "outputId": "752996c5-cf72-43b3-9222-c420d3468f4f"
      },
      "source": [
        "\n",
        "oversample =SMOTE()\n",
        "\n",
        "smote_df = df[['title','category']]\n",
        "smote_df['title']= smote_df['title'].apply(Clean_text) \n",
        "\n",
        "le.fit(smote_df['category'])\n",
        "smote_df['category'] =le.fit_transform(smote_df['category'])\n",
        "\n",
        "X = smote_df['title']\n",
        "y = smote_df['category']\n",
        "\n",
        "X_train, X_test, y_train, y_test = train_test_split(\n",
        "X,y, test_size=0.33, random_state=42)\n",
        "\n",
        "smote_train_vectors = vectorizer.fit_transform(X_train)\n",
        "smote_test_vectors = vectorizer.transform(X_test)\n",
        "\n",
        "oversample = SMOTE()\n",
        "smote_train_vectors, y_train = oversample.fit_resample(smote_train_vectors, y_train)\n",
        "\n",
        "smote_lr = LogisticRegression()\n",
        "smote_lr.fit(smote_train_vectors,y_train)\n",
        "\n",
        "\n",
        "\n"
      ],
      "execution_count": null,
      "outputs": [
        {
          "output_type": "execute_result",
          "data": {
            "text/plain": [
              "LogisticRegression(C=1.0, class_weight=None, dual=False, fit_intercept=True,\n",
              "                   intercept_scaling=1, l1_ratio=None, max_iter=100,\n",
              "                   multi_class='auto', n_jobs=None, penalty='l2',\n",
              "                   random_state=None, solver='lbfgs', tol=0.0001, verbose=0,\n",
              "                   warm_start=False)"
            ]
          },
          "metadata": {},
          "execution_count": 134
        }
      ]
    },
    {
      "cell_type": "code",
      "metadata": {
        "colab": {
          "base_uri": "https://localhost:8080/"
        },
        "id": "FCFdnjcYZaTm",
        "outputId": "9762e4fe-cf22-403f-be36-f1fad2dbdc93"
      },
      "source": [
        "#training score \n",
        "print(smote_lr.score(smote_train_vectors,y_train))"
      ],
      "execution_count": null,
      "outputs": [
        {
          "output_type": "stream",
          "name": "stdout",
          "text": [
            "0.9716666666666667\n"
          ]
        }
      ]
    },
    {
      "cell_type": "code",
      "metadata": {
        "colab": {
          "base_uri": "https://localhost:8080/"
        },
        "id": "zpam0D9DZrrI",
        "outputId": "a10e9108-cbc4-4920-ca96-c16111de71c3"
      },
      "source": [
        "#test score\n",
        "print(smote_lr.score(smote_test_vectors ,y_test))\n",
        "smote_preds = smote_lr.predict(smote_test_vectors)\n",
        "print(\"the f1 score is \",f1_score(y_test,smote_preds,average='micro')) "
      ],
      "execution_count": null,
      "outputs": [
        {
          "output_type": "stream",
          "name": "stdout",
          "text": [
            "0.9320543565147882\n",
            "the f1 score is  0.9320543565147882\n"
          ]
        }
      ]
    },
    {
      "cell_type": "markdown",
      "metadata": {
        "id": "HCQUndJ-bBZ-"
      },
      "source": [
        "**Cost-Sensitive Learning for Multi-Class Classification**"
      ]
    },
    {
      "cell_type": "code",
      "metadata": {
        "id": "V-Ek-m6PaQ6q",
        "colab": {
          "base_uri": "https://localhost:8080/"
        },
        "outputId": "01afb671-3807-4178-eb51-57fdc1d24c92"
      },
      "source": [
        "# note the df is the origiional unbalnced dataset\n",
        "from numpy import mean\n",
        "from numpy import std\n",
        "\n",
        "rf_df = df[['title','category']]\n",
        "\n",
        "rf_df['title']= rf_df['title'].apply(Clean_text)\n",
        "\n",
        "#label to encode target varaibles \n",
        "le.fit(rf_df['category'])\n",
        "rf_df['category'] =le.fit_transform(rf_df['category']) \n",
        "\n",
        "#split into output and out put elements \n",
        "X =rf_df['title']\n",
        "y =rf_df['category']\n",
        "\n",
        "X_train, X_test, y_train, y_test = train_test_split(\n",
        "X,y, test_size=0.33, random_state=42)\n",
        "\n",
        "rf_train_vectors = vectorizer.fit_transform(X_train)\n",
        "rf_test_vectors = vectorizer.transform(X_test)\n",
        "\n",
        "# evaluate a model\n",
        "def evaluate_model(X_train, y_train, model):\n",
        "\t# define evaluation procedure\n",
        "\tcv = RepeatedStratifiedKFold(n_splits=5, n_repeats=3, random_state=1)\n",
        "\t# evaluate model\n",
        "\tscores = cross_val_score(model, X_train, y_train, scoring='accuracy', cv=cv, n_jobs=-1)\n",
        "\treturn scores\n",
        "\n",
        "weights = {0:1.0, 1:3.0, 2:3.0, 3:3.0, 4:3.0}\n",
        "\n",
        "model = RandomForestClassifier(n_estimators=1000, class_weight=weights)\n",
        "# evaluate the model\n",
        "scores = evaluate_model(rf_train_vectors, y_train, model)\n",
        "# summarize performance\n",
        "print('Mean Accuracy: %.3f (%.3f)' % (mean(scores), std(scores))) \n"
      ],
      "execution_count": 152,
      "outputs": [
        {
          "output_type": "stream",
          "name": "stdout",
          "text": [
            "Mean Accuracy: 0.917 (0.007)\n"
          ]
        }
      ]
    },
    {
      "cell_type": "code",
      "metadata": {
        "colab": {
          "base_uri": "https://localhost:8080/"
        },
        "id": "mRlWi6W4fUfC",
        "outputId": "837dc068-7401-4d41-ada4-1f80efcd3097"
      },
      "source": [
        "weights = {0:1.0, 1:3.0, 2:3.0, 3:3.0, 4:3.0}\n",
        "\n",
        "rf_model= RandomForestClassifier(n_estimators=1000, class_weight=weights)\n",
        "rf_model.fit(rf_train_vectors ,y_train)\n",
        "print(\"the train score is\",rf_model.score( rf_train_vectors,y_train))\n",
        "print(\"the test score is\",rf_model.score( rf_test_vectors,y_test))\n"
      ],
      "execution_count": 158,
      "outputs": [
        {
          "output_type": "stream",
          "name": "stdout",
          "text": [
            "the train score is 0.9740055139818826\n",
            "the test score is 0.9120703437250199\n"
          ]
        }
      ]
    }
  ]
}